{
  "cells": [
    {
      "cell_type": "markdown",
      "id": "3b9ca58e",
      "metadata": {
        "id": "3b9ca58e"
      },
      "source": [
        "# Đồ án 03: Phân lớp và Gom nhóm\n",
        "\n",
        "- Họ tên: Đặng Văn Hiển\n",
        "- MSSV: 18120363"
      ]
    },
    {
      "cell_type": "markdown",
      "id": "9fcb7960",
      "metadata": {
        "deletable": false,
        "editable": false,
        "id": "9fcb7960",
        "nbgrader": {
          "cell_type": "markdown",
          "checksum": "82dc970622d3c0febfee4cee8df683fb",
          "grade": false,
          "grade_id": "project_content",
          "locked": true,
          "schema_version": 3,
          "solution": false,
          "task": false
        }
      },
      "source": [
        "## Nội dung đồ án\n",
        "\n",
        "Đồ án này hướng đến việc giúp các bạn thực hành và kiểm tra kiến thức về các thuật toán Phân lớp và Gom nhóm đã được học trong môn Khai thác Dữ liệu và Ứng dụng. \n",
        "\n",
        "Nội dung của đồ án này bao gồm:\n",
        "\n",
        "- Phân lớp dữ liệu nhị phân với Cây quyết định sử dụng thuật toán ID3\n",
        "- Gom nhóm dữ liệu với thuật toán k-means clustering\n"
      ]
    },
    {
      "cell_type": "markdown",
      "id": "XHGUv7o9ajw0",
      "metadata": {
        "deletable": false,
        "editable": false,
        "id": "XHGUv7o9ajw0",
        "nbgrader": {
          "cell_type": "markdown",
          "checksum": "3b785e40de1f2e077f34fc63b7945b7e",
          "grade": false,
          "grade_id": "project_instruction",
          "locked": true,
          "schema_version": 3,
          "solution": false,
          "task": false
        }
      },
      "source": [
        "## Hướng dẫn làm bài\n",
        "\n",
        "Các bạn cần hoàn thành đồ án bằng cách điền vào các ô code có ```YOUR CODE HERE``` hoặc các ô text có ```Your answer here``` \n",
        "\n",
        "<font color='red'>**LƯU Ý:**</font>\n",
        "\n",
        "- Bài làm của sinh viên phải do chính bản thân sinh viên tự làm, có thể trao đổi và tham khảo ý tưởng nhưng không được sao chép (một phần hoặc toàn bộ) code hoặc lời giải từ bất cứ người nào khác. Nếu vi phạm sẽ bị <font color='red'>0đ</font> bài tập này.\n",
        "- Các bạn có thể tạo thêm các cell trong quá trình code, tuy nhiên các bạn vui lòng <font color='red'>không xóa các cell code mặc định và các cell test case</font> (vì có thể ảnh hưởng đến kết quả khi chấm bài).\n",
        "- Các test case (nếu có) được đưa ra chỉ nhằm mục đích giúp các bạn test code của mình, việc pass các test case này không đồng nghĩa với việc lời giải của các bạn sẽ đạt điểm tối đa. "
      ]
    },
    {
      "cell_type": "markdown",
      "id": "e0e36d4a",
      "metadata": {
        "deletable": false,
        "editable": false,
        "id": "e0e36d4a",
        "nbgrader": {
          "cell_type": "markdown",
          "checksum": "6423679f1a3889c5b6bbe7cbb9316cc6",
          "grade": false,
          "grade_id": "project_submission",
          "locked": true,
          "schema_version": 3,
          "solution": false,
          "task": false
        }
      },
      "source": [
        "## Hướng dẫn nộp bài\n",
        "\n",
        "Khi chấm bài, đầu tiên mình sẽ chọn `Kernel` - `Restart Kernel & Run All Cells`, để restart và chạy tất cả các cell trong notebook của các bạn; do đó, trước khi nộp bài, các bạn nên chạy thử `Kernel` - `Restart Kernel & Run All Cells` để đảm bảo mọi chuyện diễn ra đúng như mong đợi.\n",
        "\n",
        "Sau đó, các bạn tạo thư mục nộp bài theo cấu trúc sau:\n",
        "\n",
        "- Thư mục `MSSV` (vd, nếu bạn có MSSV là 191235 thì bạn đặt tên thư mục là `191235`)\n",
        "    - ```data```: thư mục chứa các dữ liệu được cung cấp (và dữ liệu do bạn tìm thêm)\n",
        "    - ```[Lab 03 - Data Mining] Classification & Clustering.ipynb```: file bài làm của các bạn\n",
        "\n",
        "Cuối cùng, các bạn nén thư mục `MSSV` này lại và nộp ở link trên moodle **(Đuôi của file nén phải là .zip)**\n",
        "\n",
        "<font color=red>Các bạn lưu ý tuân thủ chính xác qui định nộp bài ở trên.</font>\n",
        "\n",
        "\n",
        "- Mọi thắc mắc trong quá trình làm bài, các bạn có thể tham khảo và điền vào [file Q&A](https://docs.google.com/spreadsheets/d/1BlUqNSl4Yn7LY1tNUM4gSRK3CbD8ZPhp37GVWXt-wmE/edit?usp=sharing), hoặc gửi mail đến  trợ giảng *Nguyễn Duy Khánh* (duykhanhnguyen360@gmail.com)\n",
        "\n",
        "\n",
        "<center><font color='green'>CHÚC CÁC BẠN HOÀN THÀNH THẬT TỐT ĐỒ ÁN!</font></center>"
      ]
    },
    {
      "cell_type": "markdown",
      "id": "m2LENWZYHkli",
      "metadata": {
        "id": "m2LENWZYHkli"
      },
      "source": [
        "## Phần I: Phân lớp (7đ) + 1đ bonus"
      ]
    },
    {
      "cell_type": "markdown",
      "id": "An0DlQbBd1v_",
      "metadata": {
        "id": "An0DlQbBd1v_"
      },
      "source": [
        "### Yêu cầu"
      ]
    },
    {
      "cell_type": "markdown",
      "id": "Pgqzo20KivVh",
      "metadata": {
        "id": "Pgqzo20KivVh"
      },
      "source": [
        "Trong phần này, các bạn sẽ cần viết chương trình Python để cài đặt Cây quyết định sử dụng thuật toán ID3.\n",
        "\n",
        "Dữ liệu: \n",
        "\n",
        "- Với đồ án này, các bạn chỉ cần xây dựng mô hình cây quyết định với các thuộc tính phân loại (categorical), không cần xử lý thuộc tính số (numerical) (các bạn có thể chuyển các thuộc tính numerical trong input về dạng categorical trước khi đưa vào mô hình)\n",
        "- Mỗi điểm dữ liệu chỉ thuộc 1 trong 2 nhãn (label) cho trước (binary classification)\n",
        "- Tập dữ liệu sử dụng: [tennis.txt](https://drive.google.com/file/d/1jv67IlMIxGxwGGaP47AZ_1t3mxIn82Y7/view?usp=sharing) và [titanic2.txt](https://drive.google.com/file/d/1IwOxcPz-Hq1_JOOfGylJxy1TYhDvfEsg/view?usp=sharing)\n",
        "\n",
        "\n",
        "Các bạn cần cài đặt hàm load dữ liệu và mô hình Cây quyết định với các phương thức sau:\n",
        "\n",
        "- ```fit```: xây dựng cây từ dữ liệu huấn luyện theo thuật toán ID3\n",
        "- ```predict```: dự đoán trên các điểm dữ liệu mới sử dụng cấu trúc cây đã xây dựng được từ dữ liệu huấn luyện\n",
        "- ```visualize```: vẽ cây quyết định đã xây dựng được từ tập dữ liệu huấn luyện. Các bạn có thể visualize cây quyết định đã xây dựng theo cách các bạn muốn, miễn sao có thể thấy được cấu trúc của cây (có thể tự implement hoặc sử dụng các package có sẵn như ```tree```, ```graphviz```, ...).  Ví dụ các bạn có thể visualize cây quyết định xây dựng được từ tập [tennis.txt](https://drive.google.com/file/d/1jv67IlMIxGxwGGaP47AZ_1t3mxIn82Y7/view?usp=sharing) như sau:\n",
        "\n",
        "```\n",
        "outlook = sunny\n",
        "|  humidity = high: no\n",
        "|  humidity = normal: yes\n",
        "outlook = overcast: yes\n",
        "outlook = rainy\n",
        "|  windy = TRUE: no\n",
        "|  windy = FALSE: yes\n",
        "```\n",
        "\n",
        "**Note**:\n",
        "\n",
        "- Với tập [tennis.txt](https://drive.google.com/file/d/1jv67IlMIxGxwGGaP47AZ_1t3mxIn82Y7/view?usp=sharing), sử dụng toàn bộ các điểm dữ liệu để làm tập train, không cần chia ra tập train và test. Với tập [titanic2.txt](https://drive.google.com/file/d/1IwOxcPz-Hq1_JOOfGylJxy1TYhDvfEsg/view?usp=sharing), các bạn sẽ cần chia ra tập train/test với tỉ lệ 80/20 (sử dụng ```train_test_split``` của ```sklearn``` với ```random_state=42```)\n",
        "- Hàm load dữ liệu và mô hình cây quyết định chỉ cài đặt 1 lần và phải sử dụng được cho các tập dữ liệu khác nhau\n",
        "- Với mỗi tập dữ liệu, các bạn cần ```load_data``` từ file input, ```fit``` mô hình với dữ liệu train, sử dụng mô hình huấn luyện để ```predict``` trên ```X_train```, ```X_test``` (nếu có) và tính độ chính xác (sử dụng hàm ```accuracy_score``` của ```sklearn```), cuối cùng là ```visualize``` mô hình đã huấn luyện\n",
        "- Sẽ có tối đa 1đ cộng nếu các bạn tự tìm và thực hiện tất cả các yêu cầu trên với tập dữ liệu mới"
      ]
    },
    {
      "cell_type": "markdown",
      "id": "ilCuHgbkd6w1",
      "metadata": {
        "id": "ilCuHgbkd6w1"
      },
      "source": [
        "### Cài đặt (6.5đ)"
      ]
    },
    {
      "cell_type": "code",
      "execution_count": 1,
      "id": "RD-kfiMzJA2g",
      "metadata": {
        "id": "RD-kfiMzJA2g"
      },
      "outputs": [],
      "source": [
        "import pandas as pd\n",
        "import numpy as np\n",
        "import sklearn\n",
        "from sklearn.metrics import accuracy_score\n",
        "from sklearn.model_selection import train_test_split\n",
        "import graphviz \n",
        "from graphviz import Digraph"
      ]
    },
    {
      "cell_type": "code",
      "execution_count": 2,
      "id": "RCUFoiMvAP3X",
      "metadata": {
        "deletable": false,
        "id": "RCUFoiMvAP3X",
        "nbgrader": {
          "cell_type": "code",
          "checksum": "fcf3d778354bd11b9680231c3cfcf0de",
          "grade": false,
          "grade_id": "cell-f737deab76c4a037",
          "locked": false,
          "schema_version": 3,
          "solution": true,
          "task": false
        }
      },
      "outputs": [],
      "source": [
        "# 1đ\n",
        "\n",
        "# Data loading and categorization (if necessary)\n",
        " \n",
        "def load_data(file_path, split=True):\n",
        "    \"\"\"\n",
        "    Load data from file path and return numpy data.\n",
        "\n",
        "    Parameters\n",
        "    ----------\n",
        "    file_path : str\n",
        "        The path of input data file (tab separated).\n",
        "    split : bool\n",
        "        Whether or not to return test set.\n",
        "\n",
        "    Returns\n",
        "    -------\n",
        "    (X_train, y_train), (None, None): training numpy array if split = False, else\n",
        "    (X_train, y_train), (X_test, y_test): training and testing numpy array if split = True\n",
        "    \"\"\"    \n",
        "    # YOUR CODE HERE\n",
        "    df = pd.read_csv(file_path, delim_whitespace=True)\n",
        "    df.head()\n",
        "\n",
        "    y_sr = df.iloc[:,-1] \n",
        "    X_df = df.iloc[:, :-1]\n",
        "\n",
        "    X_train, X_test, y_train, y_test = None, None, None, None\n",
        "\n",
        "    if split:\n",
        "      X_train, X_test, y_train, y_test = train_test_split(X_df, y_sr, random_state=42, test_size = 0.2)\n",
        "    else:\n",
        "      X_train, y_train = X_df, y_sr\n",
        "\n",
        "    return (X_train, y_train, X_test, y_test)"
      ]
    },
    {
      "cell_type": "code",
      "source": [
        "def CalEntropy(df, attr_col):\n",
        "\n",
        "  label_count = df.groupby(attr_col)[df.columns[-1]].value_counts()\n",
        "  attr_grp_count = df.groupby(attr_col)[df.columns[-1]].count()\n",
        "\n",
        "  p_label = label_count / attr_grp_count\n",
        "  p_attr = attr_grp_count / attr_grp_count.sum()\n",
        "\n",
        "  entropy = (p_attr * -p_label * np.log2(p_label)).sum()\n",
        "\n",
        "  return entropy"
      ],
      "metadata": {
        "id": "bvmXYfgjYWBG"
      },
      "id": "bvmXYfgjYWBG",
      "execution_count": 3,
      "outputs": []
    },
    {
      "cell_type": "code",
      "source": [
        "def FindBestAttr(df):\n",
        "  best_attr = df.columns[0]\n",
        "  best_entropy = CalEntropy(df, df.columns[0])\n",
        "\n",
        "  for i in range(1, df.columns.size-1):\n",
        "    entropy = CalEntropy(df, df.columns[i])\n",
        "    if entropy < best_entropy:\n",
        "      best_entropy = entropy\n",
        "      best_attr = df.columns[i]\n",
        "      \n",
        "  return best_attr"
      ],
      "metadata": {
        "id": "Zx7sInuYeykj"
      },
      "id": "Zx7sInuYeykj",
      "execution_count": 4,
      "outputs": []
    },
    {
      "cell_type": "code",
      "source": [
        "def Split(df, best_attr):\n",
        "  branches = []\n",
        "  for val in df[best_attr].unique():\n",
        "    # print(val)\n",
        "    branches.append((val , df[df[best_attr]==val].drop(best_attr, axis=1)))\n",
        "  return branches"
      ],
      "metadata": {
        "id": "Vsui1hgVxWT6"
      },
      "id": "Vsui1hgVxWT6",
      "execution_count": 5,
      "outputs": []
    },
    {
      "cell_type": "code",
      "source": [
        "def CreateID3Tree(df):\n",
        "    # If only one label \n",
        "    if df[df.columns[-1]].unique().size == 1:\n",
        "      return df[df.columns[-1]].iloc[0]\n",
        "    # If out of attributes\n",
        "    if df.columns.size==1:\n",
        "      return df[df.columns[-1]].mode()[0]\n",
        "\n",
        "    # Find attribute with best entropy\n",
        "    best_attr = FindBestAttr(df)\n",
        "\n",
        "    # Split df by best attribute values\n",
        "    branches = Split(df, best_attr)\n",
        "    \n",
        "    # Create subtrees with branches data\n",
        "    subtrees = {}\n",
        "    subtrees[None] = df[df.columns[-1]].mode()[0]\n",
        "    for val, subset in branches:\n",
        "      # print(subset)\n",
        "      subtrees[val] = CreateID3Tree(subset)\n",
        "\n",
        "    return (best_attr, subtrees)"
      ],
      "metadata": {
        "id": "--URmTF2VMhL"
      },
      "id": "--URmTF2VMhL",
      "execution_count": 6,
      "outputs": []
    },
    {
      "cell_type": "code",
      "source": [
        "def classify(tree, x): \n",
        "    # Leaf ?\n",
        "    if type(tree) == str:\n",
        "      return tree\n",
        "    # Get attribute\n",
        "    attr, subtree_dict = tree\n",
        "    # Get value of test series\n",
        "    val = x[attr] \n",
        "    val = None if val not in subtree_dict else val\n",
        "    # Get subtree\n",
        "    subtree = subtree_dict[val] # pull out the correct subtree\n",
        "    return classify(subtree, x)    # recurse!"
      ],
      "metadata": {
        "id": "zjmVNmSu-qUm"
      },
      "id": "zjmVNmSu-qUm",
      "execution_count": 7,
      "outputs": []
    },
    {
      "cell_type": "code",
      "source": [
        "def visualizeTree(tree, dot): \n",
        "    # Leaf ?\n",
        "    if type(tree) == str:\n",
        "      return tree +'_'+ str(np.random.randint(1000)) \n",
        "\n",
        "    # Get attribute\n",
        "    attr, subtree_dict = tree\n",
        "    attr = attr +'_'+ str(np.random.randint(1000)) \n",
        "    dot.node(attr, label=attr.split('_')[0])\n",
        "\n",
        "    # Get subtree \n",
        "    for val in subtree_dict.keys():\n",
        "      subtree = subtree_dict[val] # pull out the correct subtree\n",
        "      next_attr = visualizeTree(subtree, dot)    # recurse!\n",
        "      if '_' in next_attr:\n",
        "        dot.node(next_attr, label=next_attr.split('_')[0])\n",
        "      else:\n",
        "        dot.node(next_attr)\n",
        "\n",
        "      val = val or 'None'\n",
        "      dot.edge(attr, next_attr, val)\n",
        "    \n",
        "    return attr"
      ],
      "metadata": {
        "id": "5OHBfeA0PLiG"
      },
      "id": "5OHBfeA0PLiG",
      "execution_count": 8,
      "outputs": []
    },
    {
      "cell_type": "code",
      "execution_count": 9,
      "id": "a_uKLOc5jmjp",
      "metadata": {
        "deletable": false,
        "id": "a_uKLOc5jmjp",
        "nbgrader": {
          "cell_type": "code",
          "checksum": "a080f471787eae8322aa1a2cecca4536",
          "grade": false,
          "grade_id": "cell-b00859438bb62792",
          "locked": false,
          "schema_version": 3,
          "solution": true,
          "task": false
        }
      },
      "outputs": [],
      "source": [
        "# 5đ\n",
        "\n",
        "# Decision Tree class\n",
        "# You should implement the ID3 algorithm here\n",
        "# You can add other utility methods to make your code easy to read :) \n",
        "\n",
        "class DecisionTree:\n",
        "    def __init__(self):\n",
        "        # YOUR CODE HERE\n",
        "        self.tree = None\n",
        "\n",
        "    def fit(self, X_train, y_train):\n",
        "        # 4đ \n",
        "        # YOUR CODE HERE\n",
        "        df = pd.concat([X_train, y_train], axis=1)\n",
        "        self.tree = CreateID3Tree(df)\n",
        "        return self\n",
        "\n",
        "    def predict(self, X_test):\n",
        "        # 0.5đ \n",
        "        # YOUR CODE HERE\n",
        "        results = []\n",
        "        for i, x in X_test.iterrows():\n",
        "          results.append(classify(self.tree, x))\n",
        "        return results\n",
        "    \n",
        "    def visualize(self):\n",
        "        # 0.5đ \n",
        "        # YOUR CODE HERE\n",
        "        # Create Digraph object\n",
        "        dot = Digraph()\n",
        "        visualizeTree(self.tree, dot)\n",
        "        display(dot)"
      ]
    },
    {
      "cell_type": "code",
      "execution_count": 10,
      "id": "RKwazqgPAg2W",
      "metadata": {
        "id": "RKwazqgPAg2W",
        "colab": {
          "base_uri": "https://localhost:8080/",
          "height": 331
        },
        "outputId": "ebcab607-902c-4511-ac93-711a1ce60eeb"
      },
      "outputs": [
        {
          "output_type": "stream",
          "name": "stdout",
          "text": [
            "train accuracy : 100.0 %\n"
          ]
        },
        {
          "output_type": "display_data",
          "data": {
            "text/plain": [
              "<graphviz.dot.Digraph at 0x7fcea5242910>"
            ],
            "image/svg+xml": "<?xml version=\"1.0\" encoding=\"UTF-8\" standalone=\"no\"?>\n<!DOCTYPE svg PUBLIC \"-//W3C//DTD SVG 1.1//EN\"\n \"http://www.w3.org/Graphics/SVG/1.1/DTD/svg11.dtd\">\n<!-- Generated by graphviz version 2.40.1 (20161225.0304)\n -->\n<!-- Title: %3 Pages: 1 -->\n<svg width=\"427pt\" height=\"218pt\"\n viewBox=\"0.00 0.00 427.00 218.00\" xmlns=\"http://www.w3.org/2000/svg\" xmlns:xlink=\"http://www.w3.org/1999/xlink\">\n<g id=\"graph0\" class=\"graph\" transform=\"scale(1 1) rotate(0) translate(4 214)\">\n<title>%3</title>\n<polygon fill=\"#ffffff\" stroke=\"transparent\" points=\"-4,4 -4,-214 423,-214 423,4 -4,4\"/>\n<!-- outlook_900 -->\n<g id=\"node1\" class=\"node\">\n<title>outlook_900</title>\n<ellipse fill=\"none\" stroke=\"#000000\" cx=\"177\" cy=\"-192\" rx=\"40.0939\" ry=\"18\"/>\n<text text-anchor=\"middle\" x=\"177\" y=\"-188.3\" font-family=\"Times,serif\" font-size=\"14.00\" fill=\"#000000\">outlook</text>\n</g>\n<!-- yes_744 -->\n<g id=\"node2\" class=\"node\">\n<title>yes_744</title>\n<ellipse fill=\"none\" stroke=\"#000000\" cx=\"27\" cy=\"-105\" rx=\"27\" ry=\"18\"/>\n<text text-anchor=\"middle\" x=\"27\" y=\"-101.3\" font-family=\"Times,serif\" font-size=\"14.00\" fill=\"#000000\">yes</text>\n</g>\n<!-- outlook_900&#45;&gt;yes_744 -->\n<g id=\"edge1\" class=\"edge\">\n<title>outlook_900&#45;&gt;yes_744</title>\n<path fill=\"none\" stroke=\"#000000\" d=\"M149.3371,-178.8071C136.0577,-172.2637 120.0223,-164.0521 106,-156 88.3669,-145.8744 69.1912,-133.529 54.1481,-123.5208\"/>\n<polygon fill=\"#000000\" stroke=\"#000000\" points=\"56.0667,-120.5934 45.8114,-117.9327 52.1691,-126.4079 56.0667,-120.5934\"/>\n<text text-anchor=\"middle\" x=\"122\" y=\"-144.8\" font-family=\"Times,serif\" font-size=\"14.00\" fill=\"#000000\">None</text>\n</g>\n<!-- humidity_152 -->\n<g id=\"node3\" class=\"node\">\n<title>humidity_152</title>\n<ellipse fill=\"none\" stroke=\"#000000\" cx=\"117\" cy=\"-105\" rx=\"44.6926\" ry=\"18\"/>\n<text text-anchor=\"middle\" x=\"117\" y=\"-101.3\" font-family=\"Times,serif\" font-size=\"14.00\" fill=\"#000000\">humidity</text>\n</g>\n<!-- outlook_900&#45;&gt;humidity_152 -->\n<g id=\"edge5\" class=\"edge\">\n<title>outlook_900&#45;&gt;humidity_152</title>\n<path fill=\"none\" stroke=\"#000000\" d=\"M164.4364,-174.8807C160.1279,-168.9372 155.3081,-162.2068 151,-156 145.3855,-147.9109 139.3878,-139.0065 134.0173,-130.9329\"/>\n<polygon fill=\"#000000\" stroke=\"#000000\" points=\"136.9231,-128.9817 128.4839,-122.5762 131.0866,-132.8464 136.9231,-128.9817\"/>\n<text text-anchor=\"middle\" x=\"169\" y=\"-144.8\" font-family=\"Times,serif\" font-size=\"14.00\" fill=\"#000000\">sunny</text>\n</g>\n<!-- yes_684 -->\n<g id=\"node7\" class=\"node\">\n<title>yes_684</title>\n<ellipse fill=\"none\" stroke=\"#000000\" cx=\"207\" cy=\"-105\" rx=\"27\" ry=\"18\"/>\n<text text-anchor=\"middle\" x=\"207\" y=\"-101.3\" font-family=\"Times,serif\" font-size=\"14.00\" fill=\"#000000\">yes</text>\n</g>\n<!-- outlook_900&#45;&gt;yes_684 -->\n<g id=\"edge6\" class=\"edge\">\n<title>outlook_900&#45;&gt;yes_684</title>\n<path fill=\"none\" stroke=\"#000000\" d=\"M183.216,-173.9735C187.3463,-161.9958 192.8484,-146.0396 197.5203,-132.4912\"/>\n<polygon fill=\"#000000\" stroke=\"#000000\" points=\"200.9434,-133.3004 200.8946,-122.7057 194.3258,-131.0184 200.9434,-133.3004\"/>\n<text text-anchor=\"middle\" x=\"217.5\" y=\"-144.8\" font-family=\"Times,serif\" font-size=\"14.00\" fill=\"#000000\">overcast</text>\n</g>\n<!-- wind_670 -->\n<g id=\"node8\" class=\"node\">\n<title>wind_670</title>\n<ellipse fill=\"none\" stroke=\"#000000\" cx=\"307\" cy=\"-105\" rx=\"29.795\" ry=\"18\"/>\n<text text-anchor=\"middle\" x=\"307\" y=\"-101.3\" font-family=\"Times,serif\" font-size=\"14.00\" fill=\"#000000\">wind</text>\n</g>\n<!-- outlook_900&#45;&gt;wind_670 -->\n<g id=\"edge10\" class=\"edge\">\n<title>outlook_900&#45;&gt;wind_670</title>\n<path fill=\"none\" stroke=\"#000000\" d=\"M204.8577,-178.8511C217.4556,-172.5045 232.3264,-164.4422 245,-156 258.0678,-147.2952 271.6409,-136.3753 282.744,-126.8756\"/>\n<polygon fill=\"#000000\" stroke=\"#000000\" points=\"285.1007,-129.4645 290.3496,-120.2613 280.5071,-124.1825 285.1007,-129.4645\"/>\n<text text-anchor=\"middle\" x=\"276\" y=\"-144.8\" font-family=\"Times,serif\" font-size=\"14.00\" fill=\"#000000\">rain</text>\n</g>\n<!-- no_643 -->\n<g id=\"node4\" class=\"node\">\n<title>no_643</title>\n<ellipse fill=\"none\" stroke=\"#000000\" cx=\"32\" cy=\"-18\" rx=\"27\" ry=\"18\"/>\n<text text-anchor=\"middle\" x=\"32\" y=\"-14.3\" font-family=\"Times,serif\" font-size=\"14.00\" fill=\"#000000\">no</text>\n</g>\n<!-- humidity_152&#45;&gt;no_643 -->\n<g id=\"edge2\" class=\"edge\">\n<title>humidity_152&#45;&gt;no_643</title>\n<path fill=\"none\" stroke=\"#000000\" d=\"M96.1962,-88.8884C88.9177,-82.9176 80.8566,-75.9123 74,-69 65.7973,-60.7306 57.4936,-50.997 50.4597,-42.262\"/>\n<polygon fill=\"#000000\" stroke=\"#000000\" points=\"53.0947,-39.9513 44.1496,-34.2735 47.6016,-44.2902 53.0947,-39.9513\"/>\n<text text-anchor=\"middle\" x=\"90\" y=\"-57.8\" font-family=\"Times,serif\" font-size=\"14.00\" fill=\"#000000\">None</text>\n</g>\n<!-- no_966 -->\n<g id=\"node5\" class=\"node\">\n<title>no_966</title>\n<ellipse fill=\"none\" stroke=\"#000000\" cx=\"104\" cy=\"-18\" rx=\"27\" ry=\"18\"/>\n<text text-anchor=\"middle\" x=\"104\" y=\"-14.3\" font-family=\"Times,serif\" font-size=\"14.00\" fill=\"#000000\">no</text>\n</g>\n<!-- humidity_152&#45;&gt;no_966 -->\n<g id=\"edge3\" class=\"edge\">\n<title>humidity_152&#45;&gt;no_966</title>\n<path fill=\"none\" stroke=\"#000000\" d=\"M114.3064,-86.9735C112.5459,-75.1918 110.2102,-59.5607 108.2075,-46.1581\"/>\n<polygon fill=\"#000000\" stroke=\"#000000\" points=\"111.6297,-45.3763 106.6902,-36.0034 104.7065,-46.4108 111.6297,-45.3763\"/>\n<text text-anchor=\"middle\" x=\"125.5\" y=\"-57.8\" font-family=\"Times,serif\" font-size=\"14.00\" fill=\"#000000\">high</text>\n</g>\n<!-- yes_244 -->\n<g id=\"node6\" class=\"node\">\n<title>yes_244</title>\n<ellipse fill=\"none\" stroke=\"#000000\" cx=\"176\" cy=\"-18\" rx=\"27\" ry=\"18\"/>\n<text text-anchor=\"middle\" x=\"176\" y=\"-14.3\" font-family=\"Times,serif\" font-size=\"14.00\" fill=\"#000000\">yes</text>\n</g>\n<!-- humidity_152&#45;&gt;yes_244 -->\n<g id=\"edge4\" class=\"edge\">\n<title>humidity_152&#45;&gt;yes_244</title>\n<path fill=\"none\" stroke=\"#000000\" d=\"M129.8769,-87.5495C134.1208,-81.6986 138.8216,-75.1089 143,-69 148.6841,-60.6898 154.7181,-51.485 160.0505,-43.2086\"/>\n<polygon fill=\"#000000\" stroke=\"#000000\" points=\"163.0674,-44.9875 165.5117,-34.6785 157.1721,-41.2132 163.0674,-44.9875\"/>\n<text text-anchor=\"middle\" x=\"173.5\" y=\"-57.8\" font-family=\"Times,serif\" font-size=\"14.00\" fill=\"#000000\">normal</text>\n</g>\n<!-- yes_720 -->\n<g id=\"node9\" class=\"node\">\n<title>yes_720</title>\n<ellipse fill=\"none\" stroke=\"#000000\" cx=\"248\" cy=\"-18\" rx=\"27\" ry=\"18\"/>\n<text text-anchor=\"middle\" x=\"248\" y=\"-14.3\" font-family=\"Times,serif\" font-size=\"14.00\" fill=\"#000000\">yes</text>\n</g>\n<!-- wind_670&#45;&gt;yes_720 -->\n<g id=\"edge7\" class=\"edge\">\n<title>wind_670&#45;&gt;yes_720</title>\n<path fill=\"none\" stroke=\"#000000\" d=\"M292.6231,-88.9964C287.4484,-82.9219 281.7258,-75.8213 277,-69 271.6635,-61.2973 266.4172,-52.5443 261.8856,-44.4906\"/>\n<polygon fill=\"#000000\" stroke=\"#000000\" points=\"264.8106,-42.5455 256.9315,-35.4624 258.6738,-45.913 264.8106,-42.5455\"/>\n<text text-anchor=\"middle\" x=\"293\" y=\"-57.8\" font-family=\"Times,serif\" font-size=\"14.00\" fill=\"#000000\">None</text>\n</g>\n<!-- yes_434 -->\n<g id=\"node10\" class=\"node\">\n<title>yes_434</title>\n<ellipse fill=\"none\" stroke=\"#000000\" cx=\"320\" cy=\"-18\" rx=\"27\" ry=\"18\"/>\n<text text-anchor=\"middle\" x=\"320\" y=\"-14.3\" font-family=\"Times,serif\" font-size=\"14.00\" fill=\"#000000\">yes</text>\n</g>\n<!-- wind_670&#45;&gt;yes_434 -->\n<g id=\"edge8\" class=\"edge\">\n<title>wind_670&#45;&gt;yes_434</title>\n<path fill=\"none\" stroke=\"#000000\" d=\"M309.6936,-86.9735C311.4541,-75.1918 313.7898,-59.5607 315.7925,-46.1581\"/>\n<polygon fill=\"#000000\" stroke=\"#000000\" points=\"319.2935,-46.4108 317.3098,-36.0034 312.3703,-45.3763 319.2935,-46.4108\"/>\n<text text-anchor=\"middle\" x=\"330.5\" y=\"-57.8\" font-family=\"Times,serif\" font-size=\"14.00\" fill=\"#000000\">weak</text>\n</g>\n<!-- no_347 -->\n<g id=\"node11\" class=\"node\">\n<title>no_347</title>\n<ellipse fill=\"none\" stroke=\"#000000\" cx=\"392\" cy=\"-18\" rx=\"27\" ry=\"18\"/>\n<text text-anchor=\"middle\" x=\"392\" y=\"-14.3\" font-family=\"Times,serif\" font-size=\"14.00\" fill=\"#000000\">no</text>\n</g>\n<!-- wind_670&#45;&gt;no_347 -->\n<g id=\"edge9\" class=\"edge\">\n<title>wind_670&#45;&gt;no_347</title>\n<path fill=\"none\" stroke=\"#000000\" d=\"M325.6458,-90.6475C333.458,-84.3195 342.4578,-76.6036 350,-69 358.2027,-60.7306 366.5064,-50.997 373.5403,-42.262\"/>\n<polygon fill=\"#000000\" stroke=\"#000000\" points=\"376.3984,-44.2902 379.8504,-34.2735 370.9053,-39.9513 376.3984,-44.2902\"/>\n<text text-anchor=\"middle\" x=\"381.5\" y=\"-57.8\" font-family=\"Times,serif\" font-size=\"14.00\" fill=\"#000000\">strong</text>\n</g>\n</g>\n</svg>\n"
          },
          "metadata": {}
        }
      ],
      "source": [
        "# 0.5đ \n",
        "# flow to run your code (do this for all your datasets)\n",
        "# YOUR CODE HERE\n",
        "tree = DecisionTree()\n",
        "\n",
        "# dataset 1 (create one cell for each dataset with the following content)\n",
        "\n",
        "X_train, y_train, X_test, y_test = load_data(\"data/tennis.txt\", split=False)\n",
        "tree.fit(X_train, y_train)\n",
        "y_hat_train = tree.predict(X_train) \n",
        "acc_train = accuracy_score (y_hat_train, y_train)\n",
        "print('train accuracy :', acc_train*100, '%')\n",
        "tree.visualize()"
      ]
    },
    {
      "cell_type": "code",
      "source": [
        "# 0.5đ \n",
        "\n",
        "# flow to run your code (do this for all your datasets)\n",
        "# YOUR CODE HERE\n",
        "tree = DecisionTree()\n",
        "\n",
        "# dataset 1 (create one cell for each dataset with the following content)\n",
        "\n",
        "X_train, y_train, X_test, y_test = load_data(\"data/titanic2.txt\")\n",
        "tree.fit(X_train, y_train)\n",
        "y_hat_train = tree.predict(X_train) \n",
        "acc_train = accuracy_score(y_hat_train, y_train)\n",
        "print('train accuracy :', acc_train*100, '%')\n",
        "y_hat_test = tree.predict(X_test) \n",
        "acc_test = accuracy_score(y_hat_test, y_test)\n",
        "print('test accuracy :', acc_test*100, '%')\n",
        "tree.visualize()"
      ],
      "metadata": {
        "colab": {
          "base_uri": "https://localhost:8080/",
          "height": 485
        },
        "id": "BKRUxZzWMn0-",
        "outputId": "7db753c1-4542-4915-fa47-c49d267d1bd9"
      },
      "id": "BKRUxZzWMn0-",
      "execution_count": 11,
      "outputs": [
        {
          "output_type": "stream",
          "name": "stdout",
          "text": [
            "train accuracy : 79.26136363636364 %\n",
            "test accuracy : 78.2312925170068 %\n"
          ]
        },
        {
          "output_type": "display_data",
          "data": {
            "text/plain": [
              "<graphviz.dot.Digraph at 0x7fcea68fca90>"
            ],
            "image/svg+xml": "<?xml version=\"1.0\" encoding=\"UTF-8\" standalone=\"no\"?>\n<!DOCTYPE svg PUBLIC \"-//W3C//DTD SVG 1.1//EN\"\n \"http://www.w3.org/Graphics/SVG/1.1/DTD/svg11.dtd\">\n<!-- Generated by graphviz version 2.40.1 (20161225.0304)\n -->\n<!-- Title: %3 Pages: 1 -->\n<svg width=\"1502pt\" height=\"305pt\"\n viewBox=\"0.00 0.00 1502.00 305.00\" xmlns=\"http://www.w3.org/2000/svg\" xmlns:xlink=\"http://www.w3.org/1999/xlink\">\n<g id=\"graph0\" class=\"graph\" transform=\"scale(1 1) rotate(0) translate(4 301)\">\n<title>%3</title>\n<polygon fill=\"#ffffff\" stroke=\"transparent\" points=\"-4,4 -4,-301 1498,-301 1498,4 -4,4\"/>\n<!-- sex_767 -->\n<g id=\"node1\" class=\"node\">\n<title>sex_767</title>\n<ellipse fill=\"none\" stroke=\"#000000\" cx=\"375\" cy=\"-279\" rx=\"27\" ry=\"18\"/>\n<text text-anchor=\"middle\" x=\"375\" y=\"-275.3\" font-family=\"Times,serif\" font-size=\"14.00\" fill=\"#000000\">sex</text>\n</g>\n<!-- no_332 -->\n<g id=\"node2\" class=\"node\">\n<title>no_332</title>\n<ellipse fill=\"none\" stroke=\"#000000\" cx=\"298\" cy=\"-192\" rx=\"27\" ry=\"18\"/>\n<text text-anchor=\"middle\" x=\"298\" y=\"-188.3\" font-family=\"Times,serif\" font-size=\"14.00\" fill=\"#000000\">no</text>\n</g>\n<!-- sex_767&#45;&gt;no_332 -->\n<g id=\"edge1\" class=\"edge\">\n<title>sex_767&#45;&gt;no_332</title>\n<path fill=\"none\" stroke=\"#000000\" d=\"M359.2076,-263.94C352.7782,-257.6228 345.3749,-250.1053 339,-243 331.4892,-234.6285 323.6559,-225.1047 316.8728,-216.5718\"/>\n<polygon fill=\"#000000\" stroke=\"#000000\" points=\"319.4208,-214.1497 310.4906,-208.4486 313.9165,-218.4743 319.4208,-214.1497\"/>\n<text text-anchor=\"middle\" x=\"355\" y=\"-231.8\" font-family=\"Times,serif\" font-size=\"14.00\" fill=\"#000000\">None</text>\n</g>\n<!-- pclass_203 -->\n<g id=\"node3\" class=\"node\">\n<title>pclass_203</title>\n<ellipse fill=\"none\" stroke=\"#000000\" cx=\"375\" cy=\"-192\" rx=\"32.4942\" ry=\"18\"/>\n<text text-anchor=\"middle\" x=\"375\" y=\"-188.3\" font-family=\"Times,serif\" font-size=\"14.00\" fill=\"#000000\">pclass</text>\n</g>\n<!-- sex_767&#45;&gt;pclass_203 -->\n<g id=\"edge18\" class=\"edge\">\n<title>sex_767&#45;&gt;pclass_203</title>\n<path fill=\"none\" stroke=\"#000000\" d=\"M375,-260.9735C375,-249.1918 375,-233.5607 375,-220.1581\"/>\n<polygon fill=\"#000000\" stroke=\"#000000\" points=\"378.5001,-220.0033 375,-210.0034 371.5001,-220.0034 378.5001,-220.0033\"/>\n<text text-anchor=\"middle\" x=\"389\" y=\"-231.8\" font-family=\"Times,serif\" font-size=\"14.00\" fill=\"#000000\">male</text>\n</g>\n<!-- pclass_303 -->\n<g id=\"node20\" class=\"node\">\n<title>pclass_303</title>\n<ellipse fill=\"none\" stroke=\"#000000\" cx=\"998\" cy=\"-192\" rx=\"32.4942\" ry=\"18\"/>\n<text text-anchor=\"middle\" x=\"998\" y=\"-188.3\" font-family=\"Times,serif\" font-size=\"14.00\" fill=\"#000000\">pclass</text>\n</g>\n<!-- sex_767&#45;&gt;pclass_303 -->\n<g id=\"edge34\" class=\"edge\">\n<title>sex_767&#45;&gt;pclass_303</title>\n<path fill=\"none\" stroke=\"#000000\" d=\"M401.7695,-275.2617C499.4358,-261.6229 837.0769,-214.4724 956.0836,-197.8535\"/>\n<polygon fill=\"#000000\" stroke=\"#000000\" points=\"956.829,-201.2834 966.2488,-196.434 955.8608,-194.3507 956.829,-201.2834\"/>\n<text text-anchor=\"middle\" x=\"743\" y=\"-231.8\" font-family=\"Times,serif\" font-size=\"14.00\" fill=\"#000000\">female</text>\n</g>\n<!-- no_814 -->\n<g id=\"node4\" class=\"node\">\n<title>no_814</title>\n<ellipse fill=\"none\" stroke=\"#000000\" cx=\"63\" cy=\"-105\" rx=\"27\" ry=\"18\"/>\n<text text-anchor=\"middle\" x=\"63\" y=\"-101.3\" font-family=\"Times,serif\" font-size=\"14.00\" fill=\"#000000\">no</text>\n</g>\n<!-- pclass_203&#45;&gt;no_814 -->\n<g id=\"edge2\" class=\"edge\">\n<title>pclass_203&#45;&gt;no_814</title>\n<path fill=\"none\" stroke=\"#000000\" d=\"M350.6797,-180.0539C345.2866,-177.7652 339.5285,-175.5903 334,-174 281.3266,-158.8486 265.5437,-167.71 212,-156 160.888,-144.8219 147.7054,-142.1094 99,-123 97.1461,-122.2726 95.2588,-121.4841 93.3685,-120.6571\"/>\n<polygon fill=\"#000000\" stroke=\"#000000\" points=\"94.5754,-117.3582 84.033,-116.3058 91.6181,-123.7028 94.5754,-117.3582\"/>\n<text text-anchor=\"middle\" x=\"228\" y=\"-144.8\" font-family=\"Times,serif\" font-size=\"14.00\" fill=\"#000000\">None</text>\n</g>\n<!-- age_619 -->\n<g id=\"node5\" class=\"node\">\n<title>age_619</title>\n<ellipse fill=\"none\" stroke=\"#000000\" cx=\"135\" cy=\"-105\" rx=\"27\" ry=\"18\"/>\n<text text-anchor=\"middle\" x=\"135\" y=\"-101.3\" font-family=\"Times,serif\" font-size=\"14.00\" fill=\"#000000\">age</text>\n</g>\n<!-- pclass_203&#45;&gt;age_619 -->\n<g id=\"edge5\" class=\"edge\">\n<title>pclass_203&#45;&gt;age_619</title>\n<path fill=\"none\" stroke=\"#000000\" d=\"M349.543,-180.4477C344.4271,-178.2327 339.0661,-175.9867 334,-174 276.8476,-151.5874 209.0711,-128.8959 169.1852,-115.9305\"/>\n<polygon fill=\"#000000\" stroke=\"#000000\" points=\"170.0204,-112.5221 159.4285,-112.7723 167.8646,-119.1819 170.0204,-112.5221\"/>\n<text text-anchor=\"middle\" x=\"300\" y=\"-144.8\" font-family=\"Times,serif\" font-size=\"14.00\" fill=\"#000000\">crew</text>\n</g>\n<!-- age_631 -->\n<g id=\"node8\" class=\"node\">\n<title>age_631</title>\n<ellipse fill=\"none\" stroke=\"#000000\" cx=\"279\" cy=\"-105\" rx=\"27\" ry=\"18\"/>\n<text text-anchor=\"middle\" x=\"279\" y=\"-101.3\" font-family=\"Times,serif\" font-size=\"14.00\" fill=\"#000000\">age</text>\n</g>\n<!-- pclass_203&#45;&gt;age_631 -->\n<g id=\"edge9\" class=\"edge\">\n<title>pclass_203&#45;&gt;age_631</title>\n<path fill=\"none\" stroke=\"#000000\" d=\"M357.8371,-176.4461C342.4034,-162.4593 319.5935,-141.7879 302.4745,-126.2738\"/>\n<polygon fill=\"#000000\" stroke=\"#000000\" points=\"304.8166,-123.6729 295.0564,-119.5511 300.116,-128.8598 304.8166,-123.6729\"/>\n<text text-anchor=\"middle\" x=\"344.5\" y=\"-144.8\" font-family=\"Times,serif\" font-size=\"14.00\" fill=\"#000000\">2nd</text>\n</g>\n<!-- age_348 -->\n<g id=\"node12\" class=\"node\">\n<title>age_348</title>\n<ellipse fill=\"none\" stroke=\"#000000\" cx=\"447\" cy=\"-105\" rx=\"27\" ry=\"18\"/>\n<text text-anchor=\"middle\" x=\"447\" y=\"-101.3\" font-family=\"Times,serif\" font-size=\"14.00\" fill=\"#000000\">age</text>\n</g>\n<!-- pclass_203&#45;&gt;age_348 -->\n<g id=\"edge13\" class=\"edge\">\n<title>pclass_203&#45;&gt;age_348</title>\n<path fill=\"none\" stroke=\"#000000\" d=\"M388.5426,-175.636C399.4725,-162.429 415.0008,-143.6657 427.3062,-128.7967\"/>\n<polygon fill=\"#000000\" stroke=\"#000000\" points=\"430.082,-130.9322 433.7613,-120.9967 424.6892,-126.4692 430.082,-130.9322\"/>\n<text text-anchor=\"middle\" x=\"426\" y=\"-144.8\" font-family=\"Times,serif\" font-size=\"14.00\" fill=\"#000000\">3rd</text>\n</g>\n<!-- age_68 -->\n<g id=\"node16\" class=\"node\">\n<title>age_68</title>\n<ellipse fill=\"none\" stroke=\"#000000\" cx=\"639\" cy=\"-105\" rx=\"27\" ry=\"18\"/>\n<text text-anchor=\"middle\" x=\"639\" y=\"-101.3\" font-family=\"Times,serif\" font-size=\"14.00\" fill=\"#000000\">age</text>\n</g>\n<!-- pclass_203&#45;&gt;age_68 -->\n<g id=\"edge17\" class=\"edge\">\n<title>pclass_203&#45;&gt;age_68</title>\n<path fill=\"none\" stroke=\"#000000\" d=\"M403.2526,-182.6895C452.1133,-166.5877 552.2072,-133.6022 604.8723,-116.2466\"/>\n<polygon fill=\"#000000\" stroke=\"#000000\" points=\"606.0355,-119.5485 614.4375,-113.0944 603.8445,-112.9002 606.0355,-119.5485\"/>\n<text text-anchor=\"middle\" x=\"531.5\" y=\"-144.8\" font-family=\"Times,serif\" font-size=\"14.00\" fill=\"#000000\">1st</text>\n</g>\n<!-- no_919 -->\n<g id=\"node6\" class=\"node\">\n<title>no_919</title>\n<ellipse fill=\"none\" stroke=\"#000000\" cx=\"27\" cy=\"-18\" rx=\"27\" ry=\"18\"/>\n<text text-anchor=\"middle\" x=\"27\" y=\"-14.3\" font-family=\"Times,serif\" font-size=\"14.00\" fill=\"#000000\">no</text>\n</g>\n<!-- age_619&#45;&gt;no_919 -->\n<g id=\"edge3\" class=\"edge\">\n<title>age_619&#45;&gt;no_919</title>\n<path fill=\"none\" stroke=\"#000000\" d=\"M114.3579,-93.1259C103.4735,-86.5241 90.1119,-77.8671 79,-69 68.344,-60.4966 57.4406,-50.1101 48.3882,-40.9348\"/>\n<polygon fill=\"#000000\" stroke=\"#000000\" points=\"50.7367,-38.3287 41.2655,-33.5803 45.7083,-43.1986 50.7367,-38.3287\"/>\n<text text-anchor=\"middle\" x=\"95\" y=\"-57.8\" font-family=\"Times,serif\" font-size=\"14.00\" fill=\"#000000\">None</text>\n</g>\n<!-- no_42 -->\n<g id=\"node7\" class=\"node\">\n<title>no_42</title>\n<ellipse fill=\"none\" stroke=\"#000000\" cx=\"99\" cy=\"-18\" rx=\"27\" ry=\"18\"/>\n<text text-anchor=\"middle\" x=\"99\" y=\"-14.3\" font-family=\"Times,serif\" font-size=\"14.00\" fill=\"#000000\">no</text>\n</g>\n<!-- age_619&#45;&gt;no_42 -->\n<g id=\"edge4\" class=\"edge\">\n<title>age_619&#45;&gt;no_42</title>\n<path fill=\"none\" stroke=\"#000000\" d=\"M127.6611,-87.428C125.2187,-81.569 122.4874,-75.0052 120,-69 116.7536,-61.1625 113.2391,-52.6417 110.0309,-44.8492\"/>\n<polygon fill=\"#000000\" stroke=\"#000000\" points=\"113.2156,-43.3908 106.1742,-35.4744 106.742,-46.054 113.2156,-43.3908\"/>\n<text text-anchor=\"middle\" x=\"134.5\" y=\"-57.8\" font-family=\"Times,serif\" font-size=\"14.00\" fill=\"#000000\">adult</text>\n</g>\n<!-- no_922 -->\n<g id=\"node9\" class=\"node\">\n<title>no_922</title>\n<ellipse fill=\"none\" stroke=\"#000000\" cx=\"171\" cy=\"-18\" rx=\"27\" ry=\"18\"/>\n<text text-anchor=\"middle\" x=\"171\" y=\"-14.3\" font-family=\"Times,serif\" font-size=\"14.00\" fill=\"#000000\">no</text>\n</g>\n<!-- age_631&#45;&gt;no_922 -->\n<g id=\"edge6\" class=\"edge\">\n<title>age_631&#45;&gt;no_922</title>\n<path fill=\"none\" stroke=\"#000000\" d=\"M258.3579,-93.1259C247.4735,-86.5241 234.1119,-77.8671 223,-69 212.344,-60.4966 201.4406,-50.1101 192.3882,-40.9348\"/>\n<polygon fill=\"#000000\" stroke=\"#000000\" points=\"194.7367,-38.3287 185.2655,-33.5803 189.7083,-43.1986 194.7367,-38.3287\"/>\n<text text-anchor=\"middle\" x=\"239\" y=\"-57.8\" font-family=\"Times,serif\" font-size=\"14.00\" fill=\"#000000\">None</text>\n</g>\n<!-- no_368 -->\n<g id=\"node10\" class=\"node\">\n<title>no_368</title>\n<ellipse fill=\"none\" stroke=\"#000000\" cx=\"243\" cy=\"-18\" rx=\"27\" ry=\"18\"/>\n<text text-anchor=\"middle\" x=\"243\" y=\"-14.3\" font-family=\"Times,serif\" font-size=\"14.00\" fill=\"#000000\">no</text>\n</g>\n<!-- age_631&#45;&gt;no_368 -->\n<g id=\"edge7\" class=\"edge\">\n<title>age_631&#45;&gt;no_368</title>\n<path fill=\"none\" stroke=\"#000000\" d=\"M271.6611,-87.428C269.2187,-81.569 266.4874,-75.0052 264,-69 260.7536,-61.1625 257.2391,-52.6417 254.0309,-44.8492\"/>\n<polygon fill=\"#000000\" stroke=\"#000000\" points=\"257.2156,-43.3908 250.1742,-35.4744 250.742,-46.054 257.2156,-43.3908\"/>\n<text text-anchor=\"middle\" x=\"278.5\" y=\"-57.8\" font-family=\"Times,serif\" font-size=\"14.00\" fill=\"#000000\">adult</text>\n</g>\n<!-- yes_374 -->\n<g id=\"node11\" class=\"node\">\n<title>yes_374</title>\n<ellipse fill=\"none\" stroke=\"#000000\" cx=\"315\" cy=\"-18\" rx=\"27\" ry=\"18\"/>\n<text text-anchor=\"middle\" x=\"315\" y=\"-14.3\" font-family=\"Times,serif\" font-size=\"14.00\" fill=\"#000000\">yes</text>\n</g>\n<!-- age_631&#45;&gt;yes_374 -->\n<g id=\"edge8\" class=\"edge\">\n<title>age_631&#45;&gt;yes_374</title>\n<path fill=\"none\" stroke=\"#000000\" d=\"M286.2851,-87.3943C291.3111,-75.2482 298.0893,-58.8674 303.7982,-45.0711\"/>\n<polygon fill=\"#000000\" stroke=\"#000000\" points=\"307.1362,-46.158 307.7257,-35.5796 300.6681,-43.4815 307.1362,-46.158\"/>\n<text text-anchor=\"middle\" x=\"314.5\" y=\"-57.8\" font-family=\"Times,serif\" font-size=\"14.00\" fill=\"#000000\">child</text>\n</g>\n<!-- no_80 -->\n<g id=\"node13\" class=\"node\">\n<title>no_80</title>\n<ellipse fill=\"none\" stroke=\"#000000\" cx=\"387\" cy=\"-18\" rx=\"27\" ry=\"18\"/>\n<text text-anchor=\"middle\" x=\"387\" y=\"-14.3\" font-family=\"Times,serif\" font-size=\"14.00\" fill=\"#000000\">no</text>\n</g>\n<!-- age_348&#45;&gt;no_80 -->\n<g id=\"edge10\" class=\"edge\">\n<title>age_348&#45;&gt;no_80</title>\n<path fill=\"none\" stroke=\"#000000\" d=\"M432.9807,-89.3149C427.7337,-83.1582 421.8695,-75.9194 417,-69 411.416,-61.0653 405.8686,-52.0431 401.091,-43.816\"/>\n<polygon fill=\"#000000\" stroke=\"#000000\" points=\"404.0459,-41.9316 396.0631,-34.9656 397.9595,-45.3894 404.0459,-41.9316\"/>\n<text text-anchor=\"middle\" x=\"433\" y=\"-57.8\" font-family=\"Times,serif\" font-size=\"14.00\" fill=\"#000000\">None</text>\n</g>\n<!-- no_178 -->\n<g id=\"node14\" class=\"node\">\n<title>no_178</title>\n<ellipse fill=\"none\" stroke=\"#000000\" cx=\"459\" cy=\"-18\" rx=\"27\" ry=\"18\"/>\n<text text-anchor=\"middle\" x=\"459\" y=\"-14.3\" font-family=\"Times,serif\" font-size=\"14.00\" fill=\"#000000\">no</text>\n</g>\n<!-- age_348&#45;&gt;no_178 -->\n<g id=\"edge11\" class=\"edge\">\n<title>age_348&#45;&gt;no_178</title>\n<path fill=\"none\" stroke=\"#000000\" d=\"M449.4864,-86.9735C451.1115,-75.1918 453.2675,-59.5607 455.1161,-46.1581\"/>\n<polygon fill=\"#000000\" stroke=\"#000000\" points=\"458.6175,-46.3878 456.5168,-36.0034 451.6831,-45.4313 458.6175,-46.3878\"/>\n<text text-anchor=\"middle\" x=\"468.5\" y=\"-57.8\" font-family=\"Times,serif\" font-size=\"14.00\" fill=\"#000000\">adult</text>\n</g>\n<!-- no_825 -->\n<g id=\"node15\" class=\"node\">\n<title>no_825</title>\n<ellipse fill=\"none\" stroke=\"#000000\" cx=\"531\" cy=\"-18\" rx=\"27\" ry=\"18\"/>\n<text text-anchor=\"middle\" x=\"531\" y=\"-14.3\" font-family=\"Times,serif\" font-size=\"14.00\" fill=\"#000000\">no</text>\n</g>\n<!-- age_348&#45;&gt;no_825 -->\n<g id=\"edge12\" class=\"edge\">\n<title>age_348&#45;&gt;no_825</title>\n<path fill=\"none\" stroke=\"#000000\" d=\"M463.7811,-90.7392C471.1075,-84.3014 479.6789,-76.4763 487,-69 495.394,-60.4282 504.1267,-50.5359 511.5786,-41.7582\"/>\n<polygon fill=\"#000000\" stroke=\"#000000\" points=\"514.2731,-43.992 518.0156,-34.0802 508.9088,-39.4948 514.2731,-43.992\"/>\n<text text-anchor=\"middle\" x=\"515.5\" y=\"-57.8\" font-family=\"Times,serif\" font-size=\"14.00\" fill=\"#000000\">child</text>\n</g>\n<!-- no_249 -->\n<g id=\"node17\" class=\"node\">\n<title>no_249</title>\n<ellipse fill=\"none\" stroke=\"#000000\" cx=\"603\" cy=\"-18\" rx=\"27\" ry=\"18\"/>\n<text text-anchor=\"middle\" x=\"603\" y=\"-14.3\" font-family=\"Times,serif\" font-size=\"14.00\" fill=\"#000000\">no</text>\n</g>\n<!-- age_68&#45;&gt;no_249 -->\n<g id=\"edge14\" class=\"edge\">\n<title>age_68&#45;&gt;no_249</title>\n<path fill=\"none\" stroke=\"#000000\" d=\"M629.9519,-87.9911C626.941,-82.0565 623.676,-75.3035 621,-69 617.7855,-61.428 614.663,-53.0657 611.9461,-45.3408\"/>\n<polygon fill=\"#000000\" stroke=\"#000000\" points=\"615.1862,-43.999 608.6344,-35.6729 608.5639,-46.2675 615.1862,-43.999\"/>\n<text text-anchor=\"middle\" x=\"637\" y=\"-57.8\" font-family=\"Times,serif\" font-size=\"14.00\" fill=\"#000000\">None</text>\n</g>\n<!-- no_202 -->\n<g id=\"node18\" class=\"node\">\n<title>no_202</title>\n<ellipse fill=\"none\" stroke=\"#000000\" cx=\"675\" cy=\"-18\" rx=\"27\" ry=\"18\"/>\n<text text-anchor=\"middle\" x=\"675\" y=\"-14.3\" font-family=\"Times,serif\" font-size=\"14.00\" fill=\"#000000\">no</text>\n</g>\n<!-- age_68&#45;&gt;no_202 -->\n<g id=\"edge15\" class=\"edge\">\n<title>age_68&#45;&gt;no_202</title>\n<path fill=\"none\" stroke=\"#000000\" d=\"M646.2851,-87.3943C651.3111,-75.2482 658.0893,-58.8674 663.7982,-45.0711\"/>\n<polygon fill=\"#000000\" stroke=\"#000000\" points=\"667.1362,-46.158 667.7257,-35.5796 660.6681,-43.4815 667.1362,-46.158\"/>\n<text text-anchor=\"middle\" x=\"674.5\" y=\"-57.8\" font-family=\"Times,serif\" font-size=\"14.00\" fill=\"#000000\">adult</text>\n</g>\n<!-- yes_508 -->\n<g id=\"node19\" class=\"node\">\n<title>yes_508</title>\n<ellipse fill=\"none\" stroke=\"#000000\" cx=\"747\" cy=\"-18\" rx=\"27\" ry=\"18\"/>\n<text text-anchor=\"middle\" x=\"747\" y=\"-14.3\" font-family=\"Times,serif\" font-size=\"14.00\" fill=\"#000000\">yes</text>\n</g>\n<!-- age_68&#45;&gt;yes_508 -->\n<g id=\"edge16\" class=\"edge\">\n<title>age_68&#45;&gt;yes_508</title>\n<path fill=\"none\" stroke=\"#000000\" d=\"M659.0578,-92.7731C669.478,-86.1396 682.2461,-77.5622 693,-69 703.9851,-60.2537 715.3951,-49.7207 724.881,-40.5034\"/>\n<polygon fill=\"#000000\" stroke=\"#000000\" points=\"727.3682,-42.9663 732.0312,-33.4527 722.4532,-37.982 727.3682,-42.9663\"/>\n<text text-anchor=\"middle\" x=\"725.5\" y=\"-57.8\" font-family=\"Times,serif\" font-size=\"14.00\" fill=\"#000000\">child</text>\n</g>\n<!-- yes_913 -->\n<g id=\"node21\" class=\"node\">\n<title>yes_913</title>\n<ellipse fill=\"none\" stroke=\"#000000\" cx=\"891\" cy=\"-105\" rx=\"27\" ry=\"18\"/>\n<text text-anchor=\"middle\" x=\"891\" y=\"-101.3\" font-family=\"Times,serif\" font-size=\"14.00\" fill=\"#000000\">yes</text>\n</g>\n<!-- pclass_303&#45;&gt;yes_913 -->\n<g id=\"edge19\" class=\"edge\">\n<title>pclass_303&#45;&gt;yes_913</title>\n<path fill=\"none\" stroke=\"#000000\" d=\"M975.63,-178.7554C965.3617,-172.3284 953.2244,-164.2281 943,-156 932.3791,-147.4529 921.4812,-137.0595 912.4234,-127.8908\"/>\n<polygon fill=\"#000000\" stroke=\"#000000\" points=\"914.7702,-125.2833 905.2942,-120.5446 909.7468,-130.1583 914.7702,-125.2833\"/>\n<text text-anchor=\"middle\" x=\"959\" y=\"-144.8\" font-family=\"Times,serif\" font-size=\"14.00\" fill=\"#000000\">None</text>\n</g>\n<!-- age_866 -->\n<g id=\"node22\" class=\"node\">\n<title>age_866</title>\n<ellipse fill=\"none\" stroke=\"#000000\" cx=\"963\" cy=\"-105\" rx=\"27\" ry=\"18\"/>\n<text text-anchor=\"middle\" x=\"963\" y=\"-101.3\" font-family=\"Times,serif\" font-size=\"14.00\" fill=\"#000000\">age</text>\n</g>\n<!-- pclass_303&#45;&gt;age_866 -->\n<g id=\"edge23\" class=\"edge\">\n<title>pclass_303&#45;&gt;age_866</title>\n<path fill=\"none\" stroke=\"#000000\" d=\"M990.9172,-174.3943C986.0309,-162.2482 979.4409,-145.8674 973.8907,-132.0711\"/>\n<polygon fill=\"#000000\" stroke=\"#000000\" points=\"977.0517,-130.5506 970.0722,-122.5796 970.5575,-133.1633 977.0517,-130.5506\"/>\n<text text-anchor=\"middle\" x=\"993\" y=\"-144.8\" font-family=\"Times,serif\" font-size=\"14.00\" fill=\"#000000\">3rd</text>\n</g>\n<!-- age_990 -->\n<g id=\"node26\" class=\"node\">\n<title>age_990</title>\n<ellipse fill=\"none\" stroke=\"#000000\" cx=\"1035\" cy=\"-105\" rx=\"27\" ry=\"18\"/>\n<text text-anchor=\"middle\" x=\"1035\" y=\"-101.3\" font-family=\"Times,serif\" font-size=\"14.00\" fill=\"#000000\">age</text>\n</g>\n<!-- pclass_303&#45;&gt;age_990 -->\n<g id=\"edge26\" class=\"edge\">\n<title>pclass_303&#45;&gt;age_990</title>\n<path fill=\"none\" stroke=\"#000000\" d=\"M1005.4875,-174.3943C1010.6531,-162.2482 1017.6196,-145.8674 1023.487,-132.0711\"/>\n<polygon fill=\"#000000\" stroke=\"#000000\" points=\"1026.8308,-133.1517 1027.5236,-122.5796 1020.3891,-130.4121 1026.8308,-133.1517\"/>\n<text text-anchor=\"middle\" x=\"1027.5\" y=\"-144.8\" font-family=\"Times,serif\" font-size=\"14.00\" fill=\"#000000\">1st</text>\n</g>\n<!-- age_176 -->\n<g id=\"node29\" class=\"node\">\n<title>age_176</title>\n<ellipse fill=\"none\" stroke=\"#000000\" cx=\"1215\" cy=\"-105\" rx=\"27\" ry=\"18\"/>\n<text text-anchor=\"middle\" x=\"1215\" y=\"-101.3\" font-family=\"Times,serif\" font-size=\"14.00\" fill=\"#000000\">age</text>\n</g>\n<!-- pclass_303&#45;&gt;age_176 -->\n<g id=\"edge30\" class=\"edge\">\n<title>pclass_303&#45;&gt;age_176</title>\n<path fill=\"none\" stroke=\"#000000\" d=\"M1024.6085,-181.3321C1064.4018,-165.3781 1139.3309,-135.3374 1182.3703,-118.082\"/>\n<polygon fill=\"#000000\" stroke=\"#000000\" points=\"1183.8364,-121.265 1191.8158,-114.2951 1181.2315,-114.7678 1183.8364,-121.265\"/>\n<text text-anchor=\"middle\" x=\"1131.5\" y=\"-144.8\" font-family=\"Times,serif\" font-size=\"14.00\" fill=\"#000000\">2nd</text>\n</g>\n<!-- age_790 -->\n<g id=\"node33\" class=\"node\">\n<title>age_790</title>\n<ellipse fill=\"none\" stroke=\"#000000\" cx=\"1395\" cy=\"-105\" rx=\"27\" ry=\"18\"/>\n<text text-anchor=\"middle\" x=\"1395\" y=\"-101.3\" font-family=\"Times,serif\" font-size=\"14.00\" fill=\"#000000\">age</text>\n</g>\n<!-- pclass_303&#45;&gt;age_790 -->\n<g id=\"edge33\" class=\"edge\">\n<title>pclass_303&#45;&gt;age_790</title>\n<path fill=\"none\" stroke=\"#000000\" d=\"M1028.4927,-185.3177C1100.6317,-169.5089 1281.5133,-129.8699 1358.9283,-112.9049\"/>\n<polygon fill=\"#000000\" stroke=\"#000000\" points=\"1360.1241,-116.226 1369.1431,-110.6664 1358.6256,-109.3882 1360.1241,-116.226\"/>\n<text text-anchor=\"middle\" x=\"1235\" y=\"-144.8\" font-family=\"Times,serif\" font-size=\"14.00\" fill=\"#000000\">crew</text>\n</g>\n<!-- no_174 -->\n<g id=\"node23\" class=\"node\">\n<title>no_174</title>\n<ellipse fill=\"none\" stroke=\"#000000\" cx=\"819\" cy=\"-18\" rx=\"27\" ry=\"18\"/>\n<text text-anchor=\"middle\" x=\"819\" y=\"-14.3\" font-family=\"Times,serif\" font-size=\"14.00\" fill=\"#000000\">no</text>\n</g>\n<!-- age_866&#45;&gt;no_174 -->\n<g id=\"edge20\" class=\"edge\">\n<title>age_866&#45;&gt;no_174</title>\n<path fill=\"none\" stroke=\"#000000\" d=\"M941.4251,-93.8824C936.7034,-91.5422 931.7088,-89.1367 927,-87 907.7596,-78.2693 901.2238,-79.6917 883,-69 868.8005,-60.6693 854.3431,-49.4312 842.7704,-39.6246\"/>\n<polygon fill=\"#000000\" stroke=\"#000000\" points=\"844.7468,-36.7058 834.8986,-32.7989 840.1609,-41.9945 844.7468,-36.7058\"/>\n<text text-anchor=\"middle\" x=\"899\" y=\"-57.8\" font-family=\"Times,serif\" font-size=\"14.00\" fill=\"#000000\">None</text>\n</g>\n<!-- no_790 -->\n<g id=\"node24\" class=\"node\">\n<title>no_790</title>\n<ellipse fill=\"none\" stroke=\"#000000\" cx=\"891\" cy=\"-18\" rx=\"27\" ry=\"18\"/>\n<text text-anchor=\"middle\" x=\"891\" y=\"-14.3\" font-family=\"Times,serif\" font-size=\"14.00\" fill=\"#000000\">no</text>\n</g>\n<!-- age_866&#45;&gt;no_790 -->\n<g id=\"edge21\" class=\"edge\">\n<title>age_866&#45;&gt;no_790</title>\n<path fill=\"none\" stroke=\"#000000\" d=\"M948.2328,-89.5004C942.4217,-83.245 935.7718,-75.8889 930,-69 922.9131,-60.5416 915.475,-50.9981 909.0172,-42.4738\"/>\n<polygon fill=\"#000000\" stroke=\"#000000\" points=\"911.7362,-40.2659 902.9354,-34.3671 906.1368,-44.4667 911.7362,-40.2659\"/>\n<text text-anchor=\"middle\" x=\"944.5\" y=\"-57.8\" font-family=\"Times,serif\" font-size=\"14.00\" fill=\"#000000\">adult</text>\n</g>\n<!-- no_226 -->\n<g id=\"node25\" class=\"node\">\n<title>no_226</title>\n<ellipse fill=\"none\" stroke=\"#000000\" cx=\"963\" cy=\"-18\" rx=\"27\" ry=\"18\"/>\n<text text-anchor=\"middle\" x=\"963\" y=\"-14.3\" font-family=\"Times,serif\" font-size=\"14.00\" fill=\"#000000\">no</text>\n</g>\n<!-- age_866&#45;&gt;no_226 -->\n<g id=\"edge22\" class=\"edge\">\n<title>age_866&#45;&gt;no_226</title>\n<path fill=\"none\" stroke=\"#000000\" d=\"M963,-86.9735C963,-75.1918 963,-59.5607 963,-46.1581\"/>\n<polygon fill=\"#000000\" stroke=\"#000000\" points=\"966.5001,-46.0033 963,-36.0034 959.5001,-46.0034 966.5001,-46.0033\"/>\n<text text-anchor=\"middle\" x=\"977.5\" y=\"-57.8\" font-family=\"Times,serif\" font-size=\"14.00\" fill=\"#000000\">child</text>\n</g>\n<!-- yes_539 -->\n<g id=\"node27\" class=\"node\">\n<title>yes_539</title>\n<ellipse fill=\"none\" stroke=\"#000000\" cx=\"1035\" cy=\"-18\" rx=\"27\" ry=\"18\"/>\n<text text-anchor=\"middle\" x=\"1035\" y=\"-14.3\" font-family=\"Times,serif\" font-size=\"14.00\" fill=\"#000000\">yes</text>\n</g>\n<!-- age_990&#45;&gt;yes_539 -->\n<g id=\"edge24\" class=\"edge\">\n<title>age_990&#45;&gt;yes_539</title>\n<path fill=\"none\" stroke=\"#000000\" d=\"M1035,-86.9735C1035,-75.1918 1035,-59.5607 1035,-46.1581\"/>\n<polygon fill=\"#000000\" stroke=\"#000000\" points=\"1038.5001,-46.0033 1035,-36.0034 1031.5001,-46.0034 1038.5001,-46.0033\"/>\n<text text-anchor=\"middle\" x=\"1051\" y=\"-57.8\" font-family=\"Times,serif\" font-size=\"14.00\" fill=\"#000000\">None</text>\n</g>\n<!-- yes_614 -->\n<g id=\"node28\" class=\"node\">\n<title>yes_614</title>\n<ellipse fill=\"none\" stroke=\"#000000\" cx=\"1107\" cy=\"-18\" rx=\"27\" ry=\"18\"/>\n<text text-anchor=\"middle\" x=\"1107\" y=\"-14.3\" font-family=\"Times,serif\" font-size=\"14.00\" fill=\"#000000\">yes</text>\n</g>\n<!-- age_990&#45;&gt;yes_614 -->\n<g id=\"edge25\" class=\"edge\">\n<title>age_990&#45;&gt;yes_614</title>\n<path fill=\"none\" stroke=\"#000000\" d=\"M1051.018,-90.1361C1057.482,-83.849 1064.8501,-76.301 1071,-69 1077.8404,-60.8793 1084.7175,-51.505 1090.6015,-43.0259\"/>\n<polygon fill=\"#000000\" stroke=\"#000000\" points=\"1093.6,-44.8407 1096.3306,-34.6038 1087.8121,-40.9036 1093.6,-44.8407\"/>\n<text text-anchor=\"middle\" x=\"1097.5\" y=\"-57.8\" font-family=\"Times,serif\" font-size=\"14.00\" fill=\"#000000\">adult</text>\n</g>\n<!-- yes_258 -->\n<g id=\"node30\" class=\"node\">\n<title>yes_258</title>\n<ellipse fill=\"none\" stroke=\"#000000\" cx=\"1179\" cy=\"-18\" rx=\"27\" ry=\"18\"/>\n<text text-anchor=\"middle\" x=\"1179\" y=\"-14.3\" font-family=\"Times,serif\" font-size=\"14.00\" fill=\"#000000\">yes</text>\n</g>\n<!-- age_176&#45;&gt;yes_258 -->\n<g id=\"edge27\" class=\"edge\">\n<title>age_176&#45;&gt;yes_258</title>\n<path fill=\"none\" stroke=\"#000000\" d=\"M1205.9519,-87.9911C1202.941,-82.0565 1199.676,-75.3035 1197,-69 1193.7855,-61.428 1190.663,-53.0657 1187.9461,-45.3408\"/>\n<polygon fill=\"#000000\" stroke=\"#000000\" points=\"1191.1862,-43.999 1184.6344,-35.6729 1184.5639,-46.2675 1191.1862,-43.999\"/>\n<text text-anchor=\"middle\" x=\"1213\" y=\"-57.8\" font-family=\"Times,serif\" font-size=\"14.00\" fill=\"#000000\">None</text>\n</g>\n<!-- yes_555 -->\n<g id=\"node31\" class=\"node\">\n<title>yes_555</title>\n<ellipse fill=\"none\" stroke=\"#000000\" cx=\"1251\" cy=\"-18\" rx=\"27\" ry=\"18\"/>\n<text text-anchor=\"middle\" x=\"1251\" y=\"-14.3\" font-family=\"Times,serif\" font-size=\"14.00\" fill=\"#000000\">yes</text>\n</g>\n<!-- age_176&#45;&gt;yes_555 -->\n<g id=\"edge28\" class=\"edge\">\n<title>age_176&#45;&gt;yes_555</title>\n<path fill=\"none\" stroke=\"#000000\" d=\"M1222.2851,-87.3943C1227.3111,-75.2482 1234.0893,-58.8674 1239.7982,-45.0711\"/>\n<polygon fill=\"#000000\" stroke=\"#000000\" points=\"1243.1362,-46.158 1243.7257,-35.5796 1236.6681,-43.4815 1243.1362,-46.158\"/>\n<text text-anchor=\"middle\" x=\"1250.5\" y=\"-57.8\" font-family=\"Times,serif\" font-size=\"14.00\" fill=\"#000000\">adult</text>\n</g>\n<!-- yes_725 -->\n<g id=\"node32\" class=\"node\">\n<title>yes_725</title>\n<ellipse fill=\"none\" stroke=\"#000000\" cx=\"1323\" cy=\"-18\" rx=\"27\" ry=\"18\"/>\n<text text-anchor=\"middle\" x=\"1323\" y=\"-14.3\" font-family=\"Times,serif\" font-size=\"14.00\" fill=\"#000000\">yes</text>\n</g>\n<!-- age_176&#45;&gt;yes_725 -->\n<g id=\"edge29\" class=\"edge\">\n<title>age_176&#45;&gt;yes_725</title>\n<path fill=\"none\" stroke=\"#000000\" d=\"M1235.0578,-92.7731C1245.478,-86.1396 1258.2461,-77.5622 1269,-69 1279.9851,-60.2537 1291.3951,-49.7207 1300.881,-40.5034\"/>\n<polygon fill=\"#000000\" stroke=\"#000000\" points=\"1303.3682,-42.9663 1308.0312,-33.4527 1298.4532,-37.982 1303.3682,-42.9663\"/>\n<text text-anchor=\"middle\" x=\"1301.5\" y=\"-57.8\" font-family=\"Times,serif\" font-size=\"14.00\" fill=\"#000000\">child</text>\n</g>\n<!-- yes_76 -->\n<g id=\"node34\" class=\"node\">\n<title>yes_76</title>\n<ellipse fill=\"none\" stroke=\"#000000\" cx=\"1395\" cy=\"-18\" rx=\"27\" ry=\"18\"/>\n<text text-anchor=\"middle\" x=\"1395\" y=\"-14.3\" font-family=\"Times,serif\" font-size=\"14.00\" fill=\"#000000\">yes</text>\n</g>\n<!-- age_790&#45;&gt;yes_76 -->\n<g id=\"edge31\" class=\"edge\">\n<title>age_790&#45;&gt;yes_76</title>\n<path fill=\"none\" stroke=\"#000000\" d=\"M1395,-86.9735C1395,-75.1918 1395,-59.5607 1395,-46.1581\"/>\n<polygon fill=\"#000000\" stroke=\"#000000\" points=\"1398.5001,-46.0033 1395,-36.0034 1391.5001,-46.0034 1398.5001,-46.0033\"/>\n<text text-anchor=\"middle\" x=\"1411\" y=\"-57.8\" font-family=\"Times,serif\" font-size=\"14.00\" fill=\"#000000\">None</text>\n</g>\n<!-- yes_965 -->\n<g id=\"node35\" class=\"node\">\n<title>yes_965</title>\n<ellipse fill=\"none\" stroke=\"#000000\" cx=\"1467\" cy=\"-18\" rx=\"27\" ry=\"18\"/>\n<text text-anchor=\"middle\" x=\"1467\" y=\"-14.3\" font-family=\"Times,serif\" font-size=\"14.00\" fill=\"#000000\">yes</text>\n</g>\n<!-- age_790&#45;&gt;yes_965 -->\n<g id=\"edge32\" class=\"edge\">\n<title>age_790&#45;&gt;yes_965</title>\n<path fill=\"none\" stroke=\"#000000\" d=\"M1411.018,-90.1361C1417.482,-83.849 1424.8501,-76.301 1431,-69 1437.8404,-60.8793 1444.7175,-51.505 1450.6015,-43.0259\"/>\n<polygon fill=\"#000000\" stroke=\"#000000\" points=\"1453.6,-44.8407 1456.3306,-34.6038 1447.8121,-40.9036 1453.6,-44.8407\"/>\n<text text-anchor=\"middle\" x=\"1456.5\" y=\"-57.8\" font-family=\"Times,serif\" font-size=\"14.00\" fill=\"#000000\">adult</text>\n</g>\n</g>\n</svg>\n"
          },
          "metadata": {}
        }
      ]
    },
    {
      "cell_type": "markdown",
      "id": "ggqgBjBGd9vy",
      "metadata": {
        "id": "ggqgBjBGd9vy"
      },
      "source": [
        "### Trả lời câu hỏi (0.5đ)"
      ]
    },
    {
      "cell_type": "markdown",
      "id": "mpFvRmPoLX78",
      "metadata": {
        "id": "mpFvRmPoLX78"
      },
      "source": [
        "**Câu hỏi 1**: Bạn có nhận xét gì về accuracy giữa tập train và tập test (trên tập ```titanic2``` và/hoặc trên tập dữ liệu bạn chọn)? Giải thích và nêu hướng giải quyết. (0.5đ)\n",
        "\n",
        "---\n",
        "\n",
        "*Your answer here*\n"
      ]
    },
    {
      "cell_type": "markdown",
      "id": "QOI51WD9HtW1",
      "metadata": {
        "id": "QOI51WD9HtW1"
      },
      "source": [
        "## Phần II: Phân cụm (5đ)"
      ]
    },
    {
      "cell_type": "markdown",
      "id": "FDLMYDnXeGhE",
      "metadata": {
        "id": "FDLMYDnXeGhE"
      },
      "source": [
        "### Yêu cầu"
      ]
    },
    {
      "cell_type": "markdown",
      "id": "QL-1y-F2TUz7",
      "metadata": {
        "id": "QL-1y-F2TUz7"
      },
      "source": [
        "Trong phần này, các bạn sẽ cài đặt thuật toán phân cụm k-means trên dữ liệu tổng hợp (synthetic data)."
      ]
    },
    {
      "cell_type": "code",
      "execution_count": 12,
      "id": "Cqp_wbBHOFun",
      "metadata": {
        "id": "Cqp_wbBHOFun"
      },
      "outputs": [],
      "source": [
        "import numpy as np\n",
        "import matplotlib.pyplot as plt\n",
        "from scipy.spatial.distance import cdist"
      ]
    },
    {
      "cell_type": "markdown",
      "id": "tvULptcxUP4F",
      "metadata": {
        "id": "tvULptcxUP4F"
      },
      "source": [
        "Dữ liệu được sử dụng bao gồm 1500 điểm, thuộc 3 cụm với center lần lượt là (2, 2), (7,3), (3, 6). Các điểm dữ liệu trong từng cụm được sinh ngẫu nhiên theo phân phối chuẩn 2 biến (bivariate normal distribution). "
      ]
    },
    {
      "cell_type": "code",
      "execution_count": 13,
      "id": "d6W4g6D_PoEc",
      "metadata": {
        "id": "d6W4g6D_PoEc"
      },
      "outputs": [],
      "source": [
        "# generate synthetic data \n",
        "def generate_data(means, cov, N, K):\n",
        "    np.random.seed(42)\n",
        "    X0 = np.random.multivariate_normal(means[0], cov, N)\n",
        "    X1 = np.random.multivariate_normal(means[1], cov, N)\n",
        "    X2 = np.random.multivariate_normal(means[2], cov, N)\n",
        "\n",
        "    X = np.concatenate((X0, X1, X2), axis = 0)\n",
        "    original_label = np.asarray([0]*N + [1]*N + [2]*N).T\n",
        "\n",
        "    return X, original_label\n",
        "\n",
        "# visualize data \n",
        "def kmeans_display(X, label):\n",
        "    K = np.amax(label) + 1\n",
        "    X0 = X[label == 0, :]\n",
        "    X1 = X[label == 1, :]\n",
        "    X2 = X[label == 2, :]\n",
        "    \n",
        "    plt.plot(X0[:, 0], X0[:, 1], 'b^', markersize = 4, alpha = .8)\n",
        "    plt.plot(X1[:, 0], X1[:, 1], 'go', markersize = 4, alpha = .8)\n",
        "    plt.plot(X2[:, 0], X2[:, 1], 'rs', markersize = 4, alpha = .8)\n",
        "\n",
        "    plt.axis('equal')\n",
        "    plt.plot()\n",
        "    plt.show()"
      ]
    },
    {
      "cell_type": "code",
      "execution_count": 14,
      "id": "90Og5sbUU8L8",
      "metadata": {
        "id": "90Og5sbUU8L8",
        "colab": {
          "base_uri": "https://localhost:8080/",
          "height": 264
        },
        "outputId": "b0edae3c-862f-409c-8713-db1a1109b899"
      },
      "outputs": [
        {
          "output_type": "display_data",
          "data": {
            "image/png": "[encoded data removed]",
            "text/plain": [
              "<Figure size 432x288 with 1 Axes>"
            ]
          },
          "metadata": {
            "needs_background": "light"
          }
        }
      ],
      "source": [
        "N, K = 500, 3\n",
        "means = [[2, 2], [7, 3], [3, 6]]\n",
        "cov = [[1, 0], [0, 1]]\n",
        "\n",
        "X, original_label = generate_data(means, cov, N, K)\n",
        "kmeans_display(X, original_label)"
      ]
    },
    {
      "cell_type": "markdown",
      "id": "sZGtZzxYV6wB",
      "metadata": {
        "id": "sZGtZzxYV6wB"
      },
      "source": [
        "Các bạn cần điền vào các phần ```YOUR CODE HERE``` trong các ô dưới đây để hoàn thành thuật toán k-means clustering."
      ]
    },
    {
      "cell_type": "markdown",
      "id": "MOzgEIgWeJ-A",
      "metadata": {
        "id": "MOzgEIgWeJ-A"
      },
      "source": [
        "### Cài đặt (4đ)"
      ]
    },
    {
      "cell_type": "code",
      "execution_count": 15,
      "id": "7CXzAAx2Pt4N",
      "metadata": {
        "deletable": false,
        "id": "7CXzAAx2Pt4N",
        "nbgrader": {
          "cell_type": "code",
          "checksum": "88b654673e4ab9acaae48bc99ca22ec7",
          "grade": false,
          "grade_id": "cell-02d26fb701e008ca",
          "locked": false,
          "schema_version": 3,
          "solution": true,
          "task": false
        }
      },
      "outputs": [],
      "source": [
        "# 0.5đ\n",
        "def kmeans_init_centers(X, k):\n",
        "    np.random.seed(42)\n",
        "\n",
        "    # randomly pick k rows of X as initial centers using np.random.choice function\n",
        "    \n",
        "    # YOUR CODE HERE\n",
        "    return X[np.random.choice(len(X), k, replace=False)]"
      ]
    },
    {
      "cell_type": "code",
      "execution_count": 16,
      "id": "AzcdXSEHWh5L",
      "metadata": {
        "id": "AzcdXSEHWh5L"
      },
      "outputs": [],
      "source": [
        "centers = kmeans_init_centers(X, K)\n",
        "assert centers.shape == (K, 2)"
      ]
    },
    {
      "cell_type": "code",
      "execution_count": 17,
      "id": "IHoz22FUVspR",
      "metadata": {
        "deletable": false,
        "id": "IHoz22FUVspR",
        "nbgrader": {
          "cell_type": "code",
          "checksum": "94e9843cd7081e48d59f6ccb52e1dfcc",
          "grade": false,
          "grade_id": "cell-f6e050b570717c21",
          "locked": false,
          "schema_version": 3,
          "solution": true,
          "task": false
        }
      },
      "outputs": [],
      "source": [
        "# 1đ \n",
        "def kmeans_assign_labels(X, centers):\n",
        "    # calculate pairwise distances btw data and centers using cdist\n",
        "    # return index of the closest center using np.argmin\n",
        "\n",
        "    # YOUR CODE HERE\n",
        "    dist_arr = cdist(X, centers)\n",
        "    return np.argmin(dist_arr, axis = 1)"
      ]
    },
    {
      "cell_type": "code",
      "execution_count": 18,
      "id": "a-PculxAXc-M",
      "metadata": {
        "id": "a-PculxAXc-M"
      },
      "outputs": [],
      "source": [
        "assigned_labels = kmeans_assign_labels(X, centers)\n",
        "assert assigned_labels.shape == (N*3, )"
      ]
    },
    {
      "cell_type": "code",
      "execution_count": 19,
      "id": "22t4pQ8wVtWH",
      "metadata": {
        "deletable": false,
        "id": "22t4pQ8wVtWH",
        "nbgrader": {
          "cell_type": "code",
          "checksum": "822db51073ce59cf1c3c1a01e487f90d",
          "grade": false,
          "grade_id": "cell-29a67030b178fde0",
          "locked": false,
          "schema_version": 3,
          "solution": true,
          "task": false
        }
      },
      "outputs": [],
      "source": [
        "# 1đ \n",
        "def kmeans_update_centers(X, labels, K):\n",
        "    centers = np.zeros((K, X.shape[1]))\n",
        "    for k in range(K):\n",
        "        # collect all points assigned to the k-th cluster \n",
        "        # take average\n",
        "\n",
        "        # YOUR CODE HERE\n",
        "        centers[k] = np.mean(X[labels == k], axis=0)\n",
        "    return centers"
      ]
    },
    {
      "cell_type": "code",
      "execution_count": 20,
      "id": "1seFAj_WVyRe",
      "metadata": {
        "deletable": false,
        "id": "1seFAj_WVyRe",
        "nbgrader": {
          "cell_type": "code",
          "checksum": "81a03e536965535d3ee4d88b7c9c2f90",
          "grade": false,
          "grade_id": "cell-f5acd1c334d56c44",
          "locked": false,
          "schema_version": 3,
          "solution": true,
          "task": false
        }
      },
      "outputs": [],
      "source": [
        "# 0.5đ \n",
        "def has_converged(centers, new_centers):\n",
        "    # return True if two sets of centers are the same\n",
        "\n",
        "    # YOUR CODE HERE\n",
        "    return (new_centers==centers).all()"
      ]
    },
    {
      "cell_type": "code",
      "execution_count": 21,
      "id": "NlmJn2FQPwSZ",
      "metadata": {
        "deletable": false,
        "id": "NlmJn2FQPwSZ",
        "nbgrader": {
          "cell_type": "code",
          "checksum": "2e9c1924da30efe0c821b2f1a800834d",
          "grade": false,
          "grade_id": "cell-c210d26f0bf63b15",
          "locked": false,
          "schema_version": 3,
          "solution": true,
          "task": false
        }
      },
      "outputs": [],
      "source": [
        "# 1đ \n",
        "def kmeans(X, K):\n",
        "    # save the center coordinates of each iteration\n",
        "    centers = [kmeans_init_centers(X, K)]  \n",
        "    # save the labels of each iteration\n",
        "    labels = []\n",
        "    it = 0 \n",
        "    while True:\n",
        "      # YOUR CODE HERE\n",
        "\n",
        "      # Get new label by distances\n",
        "      new_labels = kmeans_assign_labels(X, centers[-1])\n",
        "      labels.append(new_labels)\n",
        "\n",
        "      # Calculate new centers and update\n",
        "      new_centers = kmeans_update_centers(X, labels[-1], K)\n",
        "      if has_converged(centers[-1], new_centers):\n",
        "        break\n",
        "      centers.append(new_centers)\n",
        "\n",
        "      # Increase Interator\n",
        "      it += 1\n",
        "      pass\n",
        "\n",
        "    return (centers, labels, it)"
      ]
    },
    {
      "cell_type": "code",
      "execution_count": 22,
      "id": "d2qfbn_QP72d",
      "metadata": {
        "id": "d2qfbn_QP72d",
        "colab": {
          "base_uri": "https://localhost:8080/",
          "height": 357
        },
        "outputId": "afc2ec15-74b3-482a-f322-d87f94a08e1b"
      },
      "outputs": [
        {
          "output_type": "stream",
          "name": "stdout",
          "text": [
            "Centers found by k-means algorithm:\n",
            "[[1.99418176 1.99827524]\n",
            " [2.99429961 6.00518912]\n",
            " [7.08218735 3.07474629]]\n",
            "============================================================\n"
          ]
        },
        {
          "output_type": "display_data",
          "data": {
            "image/png": "[encoded data removed]",
            "text/plain": [
              "<Figure size 432x288 with 1 Axes>"
            ]
          },
          "metadata": {
            "needs_background": "light"
          }
        }
      ],
      "source": [
        "(centers, labels, it) = kmeans(X, K)\n",
        "print('Centers found by k-means algorithm:')\n",
        "print(centers[-1])\n",
        "print('='*60)\n",
        "\n",
        "kmeans_display(X, labels[-1])"
      ]
    },
    {
      "cell_type": "markdown",
      "id": "qQMU2Nj6eMNT",
      "metadata": {
        "id": "qQMU2Nj6eMNT"
      },
      "source": [
        "### Trả lời câu hỏi (1đ)"
      ]
    },
    {
      "cell_type": "markdown",
      "id": "0oYbcHN6dAAX",
      "metadata": {
        "id": "0oYbcHN6dAAX"
      },
      "source": [
        "**Câu hỏi 2**: Bạn có nhận xét gì về kết quả của thuật toán k-means clustering với dữ liệu trên? (0.25đ)\n",
        "\n",
        "---\n",
        "\n",
        "Kết quả của thuật toán k-means rất tốt, hội tụ và gần khớp với nhãn test"
      ]
    },
    {
      "cell_type": "markdown",
      "id": "OwSHYivrejqr",
      "metadata": {
        "id": "OwSHYivrejqr"
      },
      "source": [
        "**Câu hỏi 3**: Hãy nêu điểm yếu của thuật toán k-means clustering (thuật toán có dễ bị ảnh hưởng bởi các center khởi tạo? phù hợp và không phù hợp với loại dữ liệu nào?). Bạn hãy nêu phương pháp/thuật toán thay thế có thể giải quyết các điểm yếu của thuật toán k-means clustering. (0.75đ)\n",
        "\n",
        "---\n",
        "\n",
        "-Điểm yếu :\n",
        "\n",
        "*   Phải biết trước số nhóm k\n",
        "*   Khá phụ thuộc vào vị trí tâm nhóm ngẫu nhiên với k nhỏ\n",
        "*   Nhiễu có thể ảnh hưởng mạnh tới tâm nhóm\n",
        "*   Với số chiều lớn việc cập nhật vị trí tâm cần nhiều chi phí trong tính \"khoảng cách\"\n",
        "*   Hình dạng của nhóm phải gần \"tròn\"\n",
        "*   Số lượng, mật độ phần tử giữa các nhóm không quá chệnh lệch\n",
        "\n",
        "-Phương pháp giải quyết:\n",
        "\n",
        "*   Chọn lần lượt nhiều số k để xác định số nhóm phù hợp \n",
        "*   Ngẫu nhiên nhiều lần vị trí tâm để có kết quả tốt nhất khi k nhỏ\n",
        "\n",
        "\n",
        "-Thuật toán thay thế khắc phục:\n",
        "\n",
        "\n",
        "*   DBSCAN \n",
        "> Không cần biết trước số k <br>\n",
        "> Loại bỏ nhiễu  <br>\n",
        "> Nhóm có thể có nhiều hình dạng khác nhau <br>\n",
        "\n",
        "\n",
        "*   Agglomerative Hierarchical Clustering\n",
        "> Không cần biết trước số k, chọn số nhóm đẹp theo ý muốn <br>\n",
        "\n",
        "\n",
        "\n",
        "\n",
        "\n",
        "\n"
      ]
    }
  ],
  "metadata": {
    "colab": {
      "collapsed_sections": [],
      "name": "[Lab 03 - Data Mining] Classification & Clustering.ipynb",
      "provenance": []
    },
    "kernelspec": {
      "display_name": "Python 3",
      "language": "python",
      "name": "python3"
    },
    "language_info": {
      "codemirror_mode": {
        "name": "ipython",
        "version": 3
      },
      "file_extension": ".py",
      "mimetype": "text/x-python",
      "name": "python",
      "nbconvert_exporter": "python",
      "pygments_lexer": "ipython3",
      "version": "3.7.10"
    }
  },
  "nbformat": 4,
  "nbformat_minor": 5
}